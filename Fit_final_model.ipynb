{
  "nbformat": 4,
  "nbformat_minor": 0,
  "metadata": {
    "colab": {
      "name": "Fit_final_model.ipynb",
      "version": "0.3.2",
      "provenance": [],
      "include_colab_link": true
    },
    "kernelspec": {
      "name": "python3",
      "display_name": "Python 3"
    },
    "accelerator": "GPU"
  },
  "cells": [
    {
      "cell_type": "markdown",
      "metadata": {
        "id": "view-in-github",
        "colab_type": "text"
      },
      "source": [
        "<a href=\"https://colab.research.google.com/github/AVJdataminer/UpworkFS/blob/master/Fit_final_model.ipynb\" target=\"_parent\"><img src=\"https://colab.research.google.com/assets/colab-badge.svg\" alt=\"Open In Colab\"/></a>"
      ]
    },
    {
      "cell_type": "code",
      "metadata": {
        "id": "rSAjZ_pGZ6oc",
        "colab_type": "code",
        "colab": {}
      },
      "source": [
        "import  pandas as pd\n",
        "import numpy as np\n",
        "from joblib import load\n",
        "from sklearn.preprocessing import StandardScaler\n",
        "from sklearn import preprocessing\n",
        "from sklearn.model_selection import train_test_split\n",
        "from sklearn.decomposition import PCA\n",
        "from sklearn.ensemble import RandomForestRegressor\n",
        "from sklearn.metrics import mean_squared_error\n",
        "from math import sqrt\n",
        "from sklearn.preprocessing import Imputer\n",
        "import pickle\n",
        "import warnings\n",
        "warnings.filterwarnings(\"ignore\")\n",
        "import os"
      ],
      "execution_count": 0,
      "outputs": []
    },
    {
      "cell_type": "code",
      "metadata": {
        "id": "D3zG-oScLTQj",
        "colab_type": "code",
        "colab": {
          "base_uri": "https://localhost:8080/",
          "height": 50
        },
        "outputId": "b0056ddf-3226-4fc4-fe81-c3f86c478f73"
      },
      "source": [
        "filename ='client-trainingset-1561457457-219.csv'\n",
        "#pre-process modeling data\n",
        "df = pd.read_csv(filename)\n",
        "print('preparing the data')\n",
        "dfo = df.select_dtypes(include=['object'])\n",
        "dfn = df.select_dtypes(exclude=['object'])\n",
        "imputer = Imputer(missing_values='NaN', strategy='median', axis=0)\n",
        "imputer = imputer.fit(dfn)\n",
        "dfna = pd.DataFrame(imputer.transform(dfn), columns = dfn.drop(['v262'], axis=1).columns)\n",
        "df_train = pd.concat([dfna, pd.get_dummies(dfo)], axis=1)\n",
        "df_train.shape"
      ],
      "execution_count": 37,
      "outputs": [
        {
          "output_type": "stream",
          "text": [
            "preparing the data\n"
          ],
          "name": "stdout"
        },
        {
          "output_type": "execute_result",
          "data": {
            "text/plain": [
              "(20000, 3044)"
            ]
          },
          "metadata": {
            "tags": []
          },
          "execution_count": 37
        }
      ]
    },
    {
      "cell_type": "code",
      "metadata": {
        "id": "YO3iBg1wN1ns",
        "colab_type": "code",
        "colab": {
          "base_uri": "https://localhost:8080/",
          "height": 34
        },
        "outputId": "f001049f-1764-450e-b3dd-cb203ef02b45"
      },
      "source": [
        "dft = pd.read_csv('client-testset-1561457457-219.csv')\n",
        "dfto = dft.select_dtypes(include=['object'])\n",
        "dftn = dft.select_dtypes(exclude=['object'])\n",
        "imputer = Imputer(missing_values='NaN', strategy='median', axis=0)\n",
        "imputer = imputer.fit(dftn)\n",
        "dftna = pd.DataFrame(imputer.transform(dftn))\n",
        "df_test = pd.concat([dftna, pd.get_dummies(dfto)], axis=1)\n",
        "df_test.shape"
      ],
      "execution_count": 38,
      "outputs": [
        {
          "output_type": "execute_result",
          "data": {
            "text/plain": [
              "(20000, 2249)"
            ]
          },
          "metadata": {
            "tags": []
          },
          "execution_count": 38
        }
      ]
    },
    {
      "cell_type": "code",
      "metadata": {
        "id": "AINjuOt9Lsva",
        "colab_type": "code",
        "colab": {
          "base_uri": "https://localhost:8080/",
          "height": 50
        },
        "outputId": "06136b48-c431-49af-8e63-93ab5ec8a115"
      },
      "source": [
        "Train2Test = df_train.columns.difference(df_test.columns)\n",
        "Test2Train = df_test.columns.difference(df_train.columns)\n",
        "print(Train2Test.shape)\n",
        "print(Test2Train.shape)"
      ],
      "execution_count": 39,
      "outputs": [
        {
          "output_type": "stream",
          "text": [
            "(1078,)\n",
            "(283,)\n"
          ],
          "name": "stdout"
        }
      ]
    },
    {
      "cell_type": "code",
      "metadata": {
        "id": "j2b6yStgS4jT",
        "colab_type": "code",
        "colab": {
          "base_uri": "https://localhost:8080/",
          "height": 50
        },
        "outputId": "ad825271-f393-40aa-89be-bb8470dac704"
      },
      "source": [
        "print(3044+283)\n",
        "print(2249+1078)"
      ],
      "execution_count": 46,
      "outputs": [
        {
          "output_type": "stream",
          "text": [
            "3327\n",
            "3327\n"
          ],
          "name": "stdout"
        }
      ]
    },
    {
      "cell_type": "code",
      "metadata": {
        "id": "kEknqeWQRX01",
        "colab_type": "code",
        "colab": {
          "base_uri": "https://localhost:8080/",
          "height": 50
        },
        "outputId": "53d2f95f-0773-4715-96d2-9e74567901c0"
      },
      "source": [
        "addTest = pd.concat([df_train,pd.DataFrame(0,index =np.arange(len(df_test)), columns = Test2Train)],axis = 1)\n",
        "addTrain = pd.concat([df_test,pd.DataFrame(0,index =np.arange(len(df_train)), columns = Train2Test )],axis =1)\n",
        "print(addTrain.shape)\n",
        "print(addTest.shape)\n"
      ],
      "execution_count": 66,
      "outputs": [
        {
          "output_type": "stream",
          "text": [
            "(20000, 3327)\n",
            "(20000, 3327)\n"
          ],
          "name": "stdout"
        }
      ]
    },
    {
      "cell_type": "code",
      "metadata": {
        "id": "ZBDjOQBbaIsc",
        "colab_type": "code",
        "outputId": "0974af59-e1c1-4a82-c6cb-3032b02865e9",
        "colab": {
          "base_uri": "https://localhost:8080/",
          "height": 50
        }
      },
      "source": [
        "X=addTest.drop(['job_performance'], axis=1)\n",
        "y=addTest[['job_performance']].values  #convert to numpy arrays\n",
        "y=y.ravel()\n",
        "scaler = preprocessing.StandardScaler().fit(X)\n",
        "X_scaled=scaler.transform(X)\n",
        "# test and train split\n",
        "X_train, X_test, y_train, y_test = train_test_split(X_scaled, y, test_size=0.25, random_state=1)\n",
        "print('Running the model')\n",
        "\"\"\"## Random Forest Regressor\"\"\"\n",
        "regressor = RandomForestRegressor(random_state=0, n_estimators=300, max_depth=None, max_features=10,\n",
        "                                  min_samples_leaf=1, min_samples_split=2, bootstrap=False)\n",
        "regressor.fit(X_train, y_train)\n",
        "regressor.score(X_test, y_test)\n",
        "y_pred = regressor.predict(X_test)\n",
        "mse = mean_squared_error(y_test, y_pred)\n",
        "#print out the performance metrics\n",
        "print(\"MSE = \" + str(mse))"
      ],
      "execution_count": 58,
      "outputs": [
        {
          "output_type": "stream",
          "text": [
            "Running the model\n",
            "MSE = 30962.66259550153\n"
          ],
          "name": "stdout"
        }
      ]
    },
    {
      "cell_type": "code",
      "metadata": {
        "id": "4V6aQi1wdxCf",
        "colab_type": "code",
        "colab": {}
      },
      "source": [
        "test_scaled=scaler.transform(addTrain.drop(['job_performance'], axis=1))"
      ],
      "execution_count": 0,
      "outputs": []
    },
    {
      "cell_type": "code",
      "metadata": {
        "id": "z2E0mHnRWiQG",
        "colab_type": "code",
        "colab": {}
      },
      "source": [
        "test_pred = regressor.predict(test_scaled)"
      ],
      "execution_count": 0,
      "outputs": []
    },
    {
      "cell_type": "code",
      "metadata": {
        "id": "CIPWx9RxWoor",
        "colab_type": "code",
        "colab": {}
      },
      "source": [
        "dft['job_performance'] = test_pred"
      ],
      "execution_count": 0,
      "outputs": []
    },
    {
      "cell_type": "code",
      "metadata": {
        "id": "lKL-LveEWwdx",
        "colab_type": "code",
        "colab": {}
      },
      "source": [
        "dft.to_csv('predictions.csv')"
      ],
      "execution_count": 0,
      "outputs": []
    },
    {
      "cell_type": "code",
      "metadata": {
        "id": "rHeflLvtXBVM",
        "colab_type": "code",
        "colab": {}
      },
      "source": [
        ""
      ],
      "execution_count": 0,
      "outputs": []
    }
  ]
}